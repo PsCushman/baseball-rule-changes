{
 "cells": [
  {
   "cell_type": "code",
   "execution_count": 2,
   "id": "a5170c1e",
   "metadata": {},
   "outputs": [],
   "source": [
    "import numpy as np\n",
    "import pandas as pd"
   ]
  },
  {
   "cell_type": "code",
   "execution_count": 3,
   "id": "dc7f701c",
   "metadata": {},
   "outputs": [],
   "source": [
    "full_df = pd.read_csv('Resources/dash_full_batter_data(1).csv')"
   ]
  },
  {
   "cell_type": "code",
   "execution_count": 4,
   "id": "d781b16f",
   "metadata": {},
   "outputs": [
    {
     "data": {
      "text/plain": [
       "Index(['bat_side', 'IDfg', 'Name', 'Age', 'G', 'AB', 'PA', 'H', '1B', '2B',\n",
       "       ...\n",
       "       'BABIP_2023', 'wRC+_2023', 'z_scores_avg_woba', 'z_scores_avg_slg',\n",
       "       'z_scores_avg_babip', 'z_scores_avg_wrc+', 'zscore_difference_woba',\n",
       "       'zscore_difference_slg', 'zscore_difference_babip',\n",
       "       'zscore_difference_wrc+'],\n",
       "      dtype='object', length=329)"
      ]
     },
     "execution_count": 4,
     "metadata": {},
     "output_type": "execute_result"
    }
   ],
   "source": [
    "full_df.columns"
   ]
  },
  {
   "cell_type": "code",
   "execution_count": 5,
   "id": "b243ac18",
   "metadata": {},
   "outputs": [
    {
     "name": "stdout",
     "output_type": "stream",
     "text": [
      "Count: 23\n"
     ]
    }
   ],
   "source": [
    "filtered_results_S = full_df[(full_df['bat_side'] == 'S')]\n",
    "count = filtered_results_S.shape[0]\n",
    "print(\"Count:\", count)"
   ]
  },
  {
   "cell_type": "code",
   "execution_count": 35,
   "id": "0e79b8a8",
   "metadata": {},
   "outputs": [
    {
     "name": "stdout",
     "output_type": "stream",
     "text": [
      "L Count: 93\n"
     ]
    }
   ],
   "source": [
    "filtered_results_L = full_df[(full_df['bat_side'] == 'L')]\n",
    "count = filtered_results_L.shape[0]\n",
    "print(\"L Count:\", count)"
   ]
  },
  {
   "cell_type": "code",
   "execution_count": 36,
   "id": "4ff1e4e0",
   "metadata": {},
   "outputs": [
    {
     "name": "stdout",
     "output_type": "stream",
     "text": [
      "R Count: 139\n"
     ]
    }
   ],
   "source": [
    "filtered_results_R = full_df[(full_df['bat_side'] == 'R')]\n",
    "count = filtered_results_R.shape[0]\n",
    "print(\"R Count:\", count)"
   ]
  },
  {
   "cell_type": "code",
   "execution_count": 7,
   "id": "604de0be",
   "metadata": {},
   "outputs": [
    {
     "name": "stdout",
     "output_type": "stream",
     "text": [
      "S Count with positive zscore_difference_babip: 13\n"
     ]
    }
   ],
   "source": [
    "S_filtered_results_positive_babip = filtered_results_S[filtered_results_S['zscore_difference_babip'] > 0]\n",
    "S_count_positive_babip = S_filtered_results_positive_babip.shape[0]\n",
    "print(\"S Count with positive zscore_difference_babip:\", S_count_positive_babip)\n"
   ]
  },
  {
   "cell_type": "code",
   "execution_count": 30,
   "id": "3e5b42ba",
   "metadata": {},
   "outputs": [
    {
     "name": "stdout",
     "output_type": "stream",
     "text": [
      "Count with positive zscore_difference_babip: 53\n"
     ]
    }
   ],
   "source": [
    "L_filtered_results_positive_babip = filtered_results_L[filtered_results_L['zscore_difference_babip'] > 0]\n",
    "L_count_positive_babip = L_filtered_results_positive_babip.shape[0]\n",
    "print(\"L Count with positive zscore_difference_babip:\", L_count_positive_babip)"
   ]
  },
  {
   "cell_type": "code",
   "execution_count": 31,
   "id": "a840d0cd",
   "metadata": {},
   "outputs": [
    {
     "name": "stdout",
     "output_type": "stream",
     "text": [
      "Count R with positive zscore_difference_babip: 66\n"
     ]
    }
   ],
   "source": [
    "R_filtered_results_positive_babip = filtered_results_R[filtered_results_R['zscore_difference_babip'] > 0]\n",
    "R_count_positive_babip = filtered_results_positive_babip.shape[0]\n",
    "print(\"R Count with positive zscore_difference_babip:\", count_positive_babip)"
   ]
  },
  {
   "cell_type": "code",
   "execution_count": 8,
   "id": "ac2eabf8",
   "metadata": {},
   "outputs": [
    {
     "name": "stdout",
     "output_type": "stream",
     "text": [
      "Count S with positive zscore_difference_woba: 12\n"
     ]
    }
   ],
   "source": [
    "S_filtered_results_positive_woba = filtered_results_S[filtered_results_S['zscore_difference_woba'] > 0]\n",
    "S_count_positive_woba = S_filtered_results_positive_woba.shape[0]\n",
    "print(\"Count S with positive zscore_difference_woba:\", S_count_positive_woba)"
   ]
  },
  {
   "cell_type": "code",
   "execution_count": 32,
   "id": "2a0c5110",
   "metadata": {},
   "outputs": [
    {
     "name": "stdout",
     "output_type": "stream",
     "text": [
      "Count L with positive zscore_difference_woba: 49\n"
     ]
    }
   ],
   "source": [
    "L_filtered_results_positive_woba = filtered_results_L[filtered_results_L['zscore_difference_woba'] > 0]\n",
    "L_count_positive_woba = L_filtered_results_positive_woba.shape[0]\n",
    "print(\"Count L with positive zscore_difference_woba:\", L_count_positive_woba)"
   ]
  },
  {
   "cell_type": "code",
   "execution_count": 34,
   "id": "e8a1cd2d",
   "metadata": {},
   "outputs": [
    {
     "name": "stdout",
     "output_type": "stream",
     "text": [
      "Count R with positive zscore_difference_woba: 57\n"
     ]
    }
   ],
   "source": [
    "R_filtered_results_positive_woba = filtered_results_R[filtered_results_R['zscore_difference_woba'] > 0]\n",
    "R_count_positive_woba = R_filtered_results_positive_woba.shape[0]\n",
    "print(\"Count R with positive zscore_difference_woba:\", R_count_positive_woba)"
   ]
  },
  {
   "cell_type": "code",
   "execution_count": 11,
   "id": "ac7165e3",
   "metadata": {},
   "outputs": [
    {
     "name": "stdout",
     "output_type": "stream",
     "text": [
      "Count S with positive zscore_difference_slg: 13\n"
     ]
    }
   ],
   "source": [
    "S_filtered_results_positive_slg = filtered_results_S[filtered_results_S['zscore_difference_slg'] > 0]\n",
    "S_count_positive_slg = S_filtered_results_positive_slg.shape[0]\n",
    "print(\"Count S with positive zscore_difference_slg:\", S_count_positive_slg)"
   ]
  },
  {
   "cell_type": "code",
   "execution_count": 37,
   "id": "fe594d13",
   "metadata": {},
   "outputs": [
    {
     "name": "stdout",
     "output_type": "stream",
     "text": [
      "Count L with positive zscore_difference_slg: 46\n"
     ]
    }
   ],
   "source": [
    "L_filtered_results_positive_slg = filtered_results_L[filtered_results_L['zscore_difference_slg'] > 0]\n",
    "L_count_positive_slg = L_filtered_results_positive_slg.shape[0]\n",
    "print(\"Count L with positive zscore_difference_slg:\", L_count_positive_slg)"
   ]
  },
  {
   "cell_type": "code",
   "execution_count": 38,
   "id": "a9590310",
   "metadata": {},
   "outputs": [
    {
     "name": "stdout",
     "output_type": "stream",
     "text": [
      "Count R with positive zscore_difference_woba: 61\n"
     ]
    }
   ],
   "source": [
    "R_filtered_results_positive_slg = filtered_results_R[filtered_results_R['zscore_difference_slg'] > 0]\n",
    "R_count_positive_slg = R_filtered_results_positive_slg.shape[0]\n",
    "print(\"Count R with positive zscore_difference_slg:\", R_count_positive_slg)"
   ]
  },
  {
   "cell_type": "code",
   "execution_count": 10,
   "id": "4ac363fc",
   "metadata": {},
   "outputs": [
    {
     "name": "stdout",
     "output_type": "stream",
     "text": [
      "Count S with positive zscore_difference_wrc: 11\n"
     ]
    }
   ],
   "source": [
    "S_filtered_results_positive_wrc = filtered_results_S[filtered_results_S['zscore_difference_wrc+'] > 0]\n",
    "S_count_positive_wrc = S_filtered_results_positive_wrc.shape[0]\n",
    "print(\"Count S with positive zscore_difference_wrc:\", S_count_positive_wrc)"
   ]
  },
  {
   "cell_type": "code",
   "execution_count": 39,
   "id": "bd981f68",
   "metadata": {},
   "outputs": [
    {
     "name": "stdout",
     "output_type": "stream",
     "text": [
      "Count L with positive zscore_difference_wrc: 48\n"
     ]
    }
   ],
   "source": [
    "L_filtered_results_positive_wrc = filtered_results_L[filtered_results_L['zscore_difference_wrc+'] > 0]\n",
    "L_count_positive_wrc = L_filtered_results_positive_wrc.shape[0]\n",
    "print(\"Count L with positive zscore_difference_wrc:\", L_count_positive_wrc)"
   ]
  },
  {
   "cell_type": "code",
   "execution_count": 40,
   "id": "bc43c7b7",
   "metadata": {},
   "outputs": [
    {
     "name": "stdout",
     "output_type": "stream",
     "text": [
      "Count R with positive zscore_difference_wrc: 59\n"
     ]
    }
   ],
   "source": [
    "R_filtered_results_positive_wrc = filtered_results_R[filtered_results_R['zscore_difference_babip'] > 0]\n",
    "R_count_positive_wrc = R_filtered_results_positive_wrc.shape[0]\n",
    "print(\"Count R with positive zscore_difference_wrc:\", R_count_positive_wrc)"
   ]
  },
  {
   "cell_type": "code",
   "execution_count": null,
   "id": "14ed983c",
   "metadata": {},
   "outputs": [],
   "source": []
  },
  {
   "cell_type": "code",
   "execution_count": 12,
   "id": "324173aa",
   "metadata": {},
   "outputs": [
    {
     "name": "stderr",
     "output_type": "stream",
     "text": [
      "/var/folders/pn/c8dt84bx2r9fbfxb1qyp16k80000gn/T/ipykernel_15320/2681395596.py:2: SettingWithCopyWarning: \n",
      "A value is trying to be set on a copy of a slice from a DataFrame\n",
      "\n",
      "See the caveats in the documentation: https://pandas.pydata.org/pandas-docs/stable/user_guide/indexing.html#returning-a-view-versus-a-copy\n",
      "  for_sql_df.rename(columns={'zscore_difference_wrc+': 'zscore_difference_wrc'}, inplace=True)\n"
     ]
    }
   ],
   "source": [
    "for_sql_df = full_df [['bat_side', 'IDfg', 'Name', 'zscore_difference_woba', 'zscore_difference_slg','zscore_difference_babip', 'zscore_difference_wrc+']]\n",
    "for_sql_df.rename(columns={'zscore_difference_wrc+': 'zscore_difference_wrc'}, inplace=True)\n",
    "for_sql_df.to_csv('Resources/for_sql.csv', index=False)"
   ]
  },
  {
   "cell_type": "code",
   "execution_count": 13,
   "id": "70ee5dcc",
   "metadata": {},
   "outputs": [
    {
     "data": {
      "text/html": [
       "<div>\n",
       "<style scoped>\n",
       "    .dataframe tbody tr th:only-of-type {\n",
       "        vertical-align: middle;\n",
       "    }\n",
       "\n",
       "    .dataframe tbody tr th {\n",
       "        vertical-align: top;\n",
       "    }\n",
       "\n",
       "    .dataframe thead th {\n",
       "        text-align: right;\n",
       "    }\n",
       "</style>\n",
       "<table border=\"1\" class=\"dataframe\">\n",
       "  <thead>\n",
       "    <tr style=\"text-align: right;\">\n",
       "      <th></th>\n",
       "      <th>bat_side</th>\n",
       "      <th>IDfg</th>\n",
       "      <th>Name</th>\n",
       "      <th>zscore_difference_woba</th>\n",
       "      <th>zscore_difference_slg</th>\n",
       "      <th>zscore_difference_babip</th>\n",
       "      <th>zscore_difference_wrc</th>\n",
       "    </tr>\n",
       "  </thead>\n",
       "  <tbody>\n",
       "    <tr>\n",
       "      <th>0</th>\n",
       "      <td>R</td>\n",
       "      <td>1744</td>\n",
       "      <td>Miguel Cabrera</td>\n",
       "      <td>-0.163228</td>\n",
       "      <td>-0.335034</td>\n",
       "      <td>-0.579226</td>\n",
       "      <td>-0.081495</td>\n",
       "    </tr>\n",
       "    <tr>\n",
       "      <th>1</th>\n",
       "      <td>L</td>\n",
       "      <td>2136</td>\n",
       "      <td>David Peralta</td>\n",
       "      <td>-0.575723</td>\n",
       "      <td>-0.321047</td>\n",
       "      <td>-0.340257</td>\n",
       "      <td>-0.385844</td>\n",
       "    </tr>\n",
       "    <tr>\n",
       "      <th>2</th>\n",
       "      <td>S</td>\n",
       "      <td>2396</td>\n",
       "      <td>Carlos Santana</td>\n",
       "      <td>-0.459862</td>\n",
       "      <td>0.109010</td>\n",
       "      <td>0.049624</td>\n",
       "      <td>-0.496512</td>\n",
       "    </tr>\n",
       "    <tr>\n",
       "      <th>3</th>\n",
       "      <td>R</td>\n",
       "      <td>2967</td>\n",
       "      <td>Tommy Pham</td>\n",
       "      <td>0.649372</td>\n",
       "      <td>1.222906</td>\n",
       "      <td>0.158851</td>\n",
       "      <td>0.797455</td>\n",
       "    </tr>\n",
       "    <tr>\n",
       "      <th>4</th>\n",
       "      <td>L</td>\n",
       "      <td>3473</td>\n",
       "      <td>Anthony Rizzo</td>\n",
       "      <td>-1.456233</td>\n",
       "      <td>-1.538062</td>\n",
       "      <td>1.099990</td>\n",
       "      <td>-1.282269</td>\n",
       "    </tr>\n",
       "  </tbody>\n",
       "</table>\n",
       "</div>"
      ],
      "text/plain": [
       "  bat_side  IDfg            Name  zscore_difference_woba  \\\n",
       "0        R  1744  Miguel Cabrera               -0.163228   \n",
       "1        L  2136   David Peralta               -0.575723   \n",
       "2        S  2396  Carlos Santana               -0.459862   \n",
       "3        R  2967      Tommy Pham                0.649372   \n",
       "4        L  3473   Anthony Rizzo               -1.456233   \n",
       "\n",
       "   zscore_difference_slg  zscore_difference_babip  zscore_difference_wrc  \n",
       "0              -0.335034                -0.579226              -0.081495  \n",
       "1              -0.321047                -0.340257              -0.385844  \n",
       "2               0.109010                 0.049624              -0.496512  \n",
       "3               1.222906                 0.158851               0.797455  \n",
       "4              -1.538062                 1.099990              -1.282269  "
      ]
     },
     "execution_count": 13,
     "metadata": {},
     "output_type": "execute_result"
    }
   ],
   "source": [
    "for_sql_df.head()"
   ]
  }
 ],
 "metadata": {
  "kernelspec": {
   "display_name": "Python 3 (ipykernel)",
   "language": "python",
   "name": "python3"
  },
  "language_info": {
   "codemirror_mode": {
    "name": "ipython",
    "version": 3
   },
   "file_extension": ".py",
   "mimetype": "text/x-python",
   "name": "python",
   "nbconvert_exporter": "python",
   "pygments_lexer": "ipython3",
   "version": "3.9.16"
  }
 },
 "nbformat": 4,
 "nbformat_minor": 5
}
