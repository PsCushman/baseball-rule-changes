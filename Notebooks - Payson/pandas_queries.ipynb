{
 "cells": [
  {
   "cell_type": "code",
   "execution_count": 1,
   "id": "a5170c1e",
   "metadata": {},
   "outputs": [],
   "source": [
    "import numpy as np\n",
    "import pandas as pd"
   ]
  },
  {
   "cell_type": "code",
   "execution_count": 2,
   "id": "dc7f701c",
   "metadata": {},
   "outputs": [],
   "source": [
    "full_df = pd.read_csv('Resources/dash_full_batter_data(1).csv')"
   ]
  },
  {
   "cell_type": "code",
   "execution_count": 12,
   "id": "d781b16f",
   "metadata": {},
   "outputs": [
    {
     "data": {
      "text/plain": [
       "(256, 329)"
      ]
     },
     "execution_count": 12,
     "metadata": {},
     "output_type": "execute_result"
    }
   ],
   "source": [
    "full_df.shape"
   ]
  },
  {
   "cell_type": "code",
   "execution_count": 5,
   "id": "b243ac18",
   "metadata": {},
   "outputs": [
    {
     "name": "stdout",
     "output_type": "stream",
     "text": [
      "Count: 23\n"
     ]
    }
   ],
   "source": [
    "filtered_results_S = full_df[(full_df['bat_side'] == 'S')]\n",
    "count = filtered_results_S.shape[0]\n",
    "print(\"Count:\", count)"
   ]
  },
  {
   "cell_type": "code",
   "execution_count": 35,
   "id": "0e79b8a8",
   "metadata": {},
   "outputs": [
    {
     "name": "stdout",
     "output_type": "stream",
     "text": [
      "L Count: 93\n"
     ]
    }
   ],
   "source": [
    "filtered_results_L = full_df[(full_df['bat_side'] == 'L')]\n",
    "count = filtered_results_L.shape[0]\n",
    "print(\"L Count:\", count)"
   ]
  },
  {
   "cell_type": "code",
   "execution_count": 36,
   "id": "4ff1e4e0",
   "metadata": {},
   "outputs": [
    {
     "name": "stdout",
     "output_type": "stream",
     "text": [
      "R Count: 139\n"
     ]
    }
   ],
   "source": [
    "filtered_results_R = full_df[(full_df['bat_side'] == 'R')]\n",
    "count = filtered_results_R.shape[0]\n",
    "print(\"R Count:\", count)"
   ]
  },
  {
   "cell_type": "code",
   "execution_count": 7,
   "id": "604de0be",
   "metadata": {},
   "outputs": [
    {
     "name": "stdout",
     "output_type": "stream",
     "text": [
      "S Count with positive zscore_difference_babip: 13\n"
     ]
    }
   ],
   "source": [
    "S_filtered_results_positive_babip = filtered_results_S[filtered_results_S['zscore_difference_babip'] > 0]\n",
    "S_count_positive_babip = S_filtered_results_positive_babip.shape[0]\n",
    "print(\"S Count with positive zscore_difference_babip:\", S_count_positive_babip)\n"
   ]
  },
  {
   "cell_type": "code",
   "execution_count": 30,
   "id": "3e5b42ba",
   "metadata": {},
   "outputs": [
    {
     "name": "stdout",
     "output_type": "stream",
     "text": [
      "Count with positive zscore_difference_babip: 53\n"
     ]
    }
   ],
   "source": [
    "L_filtered_results_positive_babip = filtered_results_L[filtered_results_L['zscore_difference_babip'] > 0]\n",
    "L_count_positive_babip = L_filtered_results_positive_babip.shape[0]\n",
    "print(\"L Count with positive zscore_difference_babip:\", L_count_positive_babip)"
   ]
  },
  {
   "cell_type": "code",
   "execution_count": 31,
   "id": "a840d0cd",
   "metadata": {},
   "outputs": [
    {
     "name": "stdout",
     "output_type": "stream",
     "text": [
      "Count R with positive zscore_difference_babip: 66\n"
     ]
    }
   ],
   "source": [
    "R_filtered_results_positive_babip = filtered_results_R[filtered_results_R['zscore_difference_babip'] > 0]\n",
    "R_count_positive_babip = filtered_results_positive_babip.shape[0]\n",
    "print(\"R Count with positive zscore_difference_babip:\", count_positive_babip)"
   ]
  },
  {
   "cell_type": "code",
   "execution_count": 8,
   "id": "ac2eabf8",
   "metadata": {},
   "outputs": [
    {
     "name": "stdout",
     "output_type": "stream",
     "text": [
      "Count S with positive zscore_difference_woba: 12\n"
     ]
    }
   ],
   "source": [
    "S_filtered_results_positive_woba = filtered_results_S[filtered_results_S['zscore_difference_woba'] > 0]\n",
    "S_count_positive_woba = S_filtered_results_positive_woba.shape[0]\n",
    "print(\"Count S with positive zscore_difference_woba:\", S_count_positive_woba)"
   ]
  },
  {
   "cell_type": "code",
   "execution_count": 32,
   "id": "2a0c5110",
   "metadata": {},
   "outputs": [
    {
     "name": "stdout",
     "output_type": "stream",
     "text": [
      "Count L with positive zscore_difference_woba: 49\n"
     ]
    }
   ],
   "source": [
    "L_filtered_results_positive_woba = filtered_results_L[filtered_results_L['zscore_difference_woba'] > 0]\n",
    "L_count_positive_woba = L_filtered_results_positive_woba.shape[0]\n",
    "print(\"Count L with positive zscore_difference_woba:\", L_count_positive_woba)"
   ]
  },
  {
   "cell_type": "code",
   "execution_count": 34,
   "id": "e8a1cd2d",
   "metadata": {},
   "outputs": [
    {
     "name": "stdout",
     "output_type": "stream",
     "text": [
      "Count R with positive zscore_difference_woba: 57\n"
     ]
    }
   ],
   "source": [
    "R_filtered_results_positive_woba = filtered_results_R[filtered_results_R['zscore_difference_woba'] > 0]\n",
    "R_count_positive_woba = R_filtered_results_positive_woba.shape[0]\n",
    "print(\"Count R with positive zscore_difference_woba:\", R_count_positive_woba)"
   ]
  },
  {
   "cell_type": "code",
   "execution_count": 11,
   "id": "ac7165e3",
   "metadata": {},
   "outputs": [
    {
     "name": "stdout",
     "output_type": "stream",
     "text": [
      "Count S with positive zscore_difference_slg: 13\n"
     ]
    }
   ],
   "source": [
    "S_filtered_results_positive_slg = filtered_results_S[filtered_results_S['zscore_difference_slg'] > 0]\n",
    "S_count_positive_slg = S_filtered_results_positive_slg.shape[0]\n",
    "print(\"Count S with positive zscore_difference_slg:\", S_count_positive_slg)"
   ]
  },
  {
   "cell_type": "code",
   "execution_count": 37,
   "id": "fe594d13",
   "metadata": {},
   "outputs": [
    {
     "name": "stdout",
     "output_type": "stream",
     "text": [
      "Count L with positive zscore_difference_slg: 46\n"
     ]
    }
   ],
   "source": [
    "L_filtered_results_positive_slg = filtered_results_L[filtered_results_L['zscore_difference_slg'] > 0]\n",
    "L_count_positive_slg = L_filtered_results_positive_slg.shape[0]\n",
    "print(\"Count L with positive zscore_difference_slg:\", L_count_positive_slg)"
   ]
  },
  {
   "cell_type": "code",
   "execution_count": 38,
   "id": "a9590310",
   "metadata": {},
   "outputs": [
    {
     "name": "stdout",
     "output_type": "stream",
     "text": [
      "Count R with positive zscore_difference_woba: 61\n"
     ]
    }
   ],
   "source": [
    "R_filtered_results_positive_slg = filtered_results_R[filtered_results_R['zscore_difference_slg'] > 0]\n",
    "R_count_positive_slg = R_filtered_results_positive_slg.shape[0]\n",
    "print(\"Count R with positive zscore_difference_slg:\", R_count_positive_slg)"
   ]
  },
  {
   "cell_type": "code",
   "execution_count": 10,
   "id": "4ac363fc",
   "metadata": {},
   "outputs": [
    {
     "name": "stdout",
     "output_type": "stream",
     "text": [
      "Count S with positive zscore_difference_wrc: 11\n"
     ]
    }
   ],
   "source": [
    "S_filtered_results_positive_wrc = filtered_results_S[filtered_results_S['zscore_difference_wrc+'] > 0]\n",
    "S_count_positive_wrc = S_filtered_results_positive_wrc.shape[0]\n",
    "print(\"Count S with positive zscore_difference_wrc:\", S_count_positive_wrc)"
   ]
  },
  {
   "cell_type": "code",
   "execution_count": 39,
   "id": "bd981f68",
   "metadata": {},
   "outputs": [
    {
     "name": "stdout",
     "output_type": "stream",
     "text": [
      "Count L with positive zscore_difference_wrc: 48\n"
     ]
    }
   ],
   "source": [
    "L_filtered_results_positive_wrc = filtered_results_L[filtered_results_L['zscore_difference_wrc+'] > 0]\n",
    "L_count_positive_wrc = L_filtered_results_positive_wrc.shape[0]\n",
    "print(\"Count L with positive zscore_difference_wrc:\", L_count_positive_wrc)"
   ]
  },
  {
   "cell_type": "code",
   "execution_count": 40,
   "id": "bc43c7b7",
   "metadata": {},
   "outputs": [
    {
     "name": "stdout",
     "output_type": "stream",
     "text": [
      "Count R with positive zscore_difference_wrc: 59\n"
     ]
    }
   ],
   "source": [
    "R_filtered_results_positive_wrc = filtered_results_R[filtered_results_R['zscore_difference_wrc+'] > 0]\n",
    "R_count_positive_wrc = R_filtered_results_positive_wrc.shape[0]\n",
    "print(\"Count R with positive zscore_difference_wrc:\", R_count_positive_wrc)"
   ]
  }
 ],
 "metadata": {
  "kernelspec": {
   "display_name": "Python 3 (ipykernel)",
   "language": "python",
   "name": "python3"
  },
  "language_info": {
   "codemirror_mode": {
    "name": "ipython",
    "version": 3
   },
   "file_extension": ".py",
   "mimetype": "text/x-python",
   "name": "python",
   "nbconvert_exporter": "python",
   "pygments_lexer": "ipython3",
   "version": "3.9.16"
  }
 },
 "nbformat": 4,
 "nbformat_minor": 5
}
