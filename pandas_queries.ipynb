{
 "cells": [
  {
   "cell_type": "code",
   "execution_count": 1,
   "id": "655cfbd7",
   "metadata": {},
   "outputs": [],
   "source": [
    "import numpy as np\n",
    "import pandas as pd"
   ]
  },
  {
   "cell_type": "code",
   "execution_count": 12,
   "id": "efc65c2a",
   "metadata": {},
   "outputs": [],
   "source": [
    "full_df = pd.read_csv('Resources/dash_full_batter_data(1).csv')"
   ]
  },
  {
   "cell_type": "code",
   "execution_count": 13,
   "id": "517c276e",
   "metadata": {},
   "outputs": [
    {
     "name": "stdout",
     "output_type": "stream",
     "text": [
      "Count: 116\n"
     ]
    }
   ],
   "source": [
    "filtered_results = full_df[(full_df['bat_side'] == 'L') | (full_df['bat_side'] == 'S')]\n",
    "count = filtered_results.shape[0]\n",
    "print(\"Count:\", count)"
   ]
  },
  {
   "cell_type": "code",
   "execution_count": 15,
   "id": "72ad2718",
   "metadata": {},
   "outputs": [
    {
     "name": "stdout",
     "output_type": "stream",
     "text": [
      "Count: 93\n"
     ]
    }
   ],
   "source": [
    "filtered_results_L = full_df[(full_df['bat_side'] == 'L')]\n",
    "count = filtered_results_L.shape[0]\n",
    "print(\"Count:\", count)"
   ]
  },
  {
   "cell_type": "code",
   "execution_count": 16,
   "id": "e7660b00",
   "metadata": {},
   "outputs": [
    {
     "name": "stdout",
     "output_type": "stream",
     "text": [
      "Count with positive zscore_difference_babip: 66\n"
     ]
    }
   ],
   "source": [
    "filtered_results_positive_babip = filtered_results[filtered_results['zscore_difference_babip'] > 0]\n",
    "count_positive_babip = filtered_results_positive_babip.shape[0]\n",
    "print(\"Count with positive zscore_difference_babip:\", count_positive_babip)\n"
   ]
  },
  {
   "cell_type": "code",
   "execution_count": 17,
   "id": "98838c84",
   "metadata": {},
   "outputs": [
    {
     "name": "stdout",
     "output_type": "stream",
     "text": [
      "Count with positive zscore_difference_babip: 53\n"
     ]
    }
   ],
   "source": [
    "filtered_results_positive_babip = filtered_results_L[filtered_results_L['zscore_difference_babip'] > 0]\n",
    "count_positive_babip = filtered_results_positive_babip.shape[0]\n",
    "print(\"Count with positive zscore_difference_babip:\", count_positive_babip)"
   ]
  }
 ],
 "metadata": {
  "kernelspec": {
   "display_name": "Python 3 (ipykernel)",
   "language": "python",
   "name": "python3"
  },
  "language_info": {
   "codemirror_mode": {
    "name": "ipython",
    "version": 3
   },
   "file_extension": ".py",
   "mimetype": "text/x-python",
   "name": "python",
   "nbconvert_exporter": "python",
   "pygments_lexer": "ipython3",
   "version": "3.9.16"
  }
 },
 "nbformat": 4,
 "nbformat_minor": 5
}
