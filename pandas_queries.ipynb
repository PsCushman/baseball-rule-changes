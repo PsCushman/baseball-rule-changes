{
 "cells": [
  {
   "cell_type": "code",
   "execution_count": 1,
   "id": "6f310eda",
   "metadata": {},
   "outputs": [],
   "source": [
    "import numpy as np\n",
    "import pandas as pd"
   ]
  },
  {
   "cell_type": "code",
   "execution_count": 12,
   "id": "54e8e5b8",
   "metadata": {},
   "outputs": [],
   "source": [
    "full_df = pd.read_csv('Resources/dash_full_batter_data(1).csv')"
   ]
  },
  {
   "cell_type": "code",
   "execution_count": 24,
   "id": "3387f5a6",
   "metadata": {},
   "outputs": [
    {
     "name": "stdout",
     "output_type": "stream",
     "text": [
      "Count: 116\n"
     ]
    }
   ],
   "source": [
    "filtered_results = full_df[(full_df['bat_side'] == 'L') | (full_df['bat_side'] == 'S')]\n",
    "count = filtered_results.shape[0]\n",
    "print(\"Count:\", count)"
   ]
  },
  {
   "cell_type": "code",
   "execution_count": 35,
   "id": "a88f87db",
   "metadata": {},
   "outputs": [
    {
     "name": "stdout",
     "output_type": "stream",
     "text": [
      "L Count: 93\n"
     ]
    }
   ],
   "source": [
    "filtered_results_L = full_df[(full_df['bat_side'] == 'L')]\n",
    "count = filtered_results_L.shape[0]\n",
    "print(\"L Count:\", count)"
   ]
  },
  {
   "cell_type": "code",
   "execution_count": 36,
   "id": "76d596c5",
   "metadata": {},
   "outputs": [
    {
     "name": "stdout",
     "output_type": "stream",
     "text": [
      "R Count: 139\n"
     ]
    }
   ],
   "source": [
    "filtered_results_R = full_df[(full_df['bat_side'] == 'R')]\n",
    "count = filtered_results_R.shape[0]\n",
    "print(\"R Count:\", count)"
   ]
  },
  {
   "cell_type": "code",
   "execution_count": 27,
   "id": "3d81126c",
   "metadata": {},
   "outputs": [
    {
     "name": "stdout",
     "output_type": "stream",
     "text": [
      "Count with positive zscore_difference_babip: 66\n"
     ]
    }
   ],
   "source": [
    "filtered_results_positive_babip = filtered_results[filtered_results['zscore_difference_babip'] > 0]\n",
    "count_positive_babip = filtered_results_positive_babip.shape[0]\n",
    "print(\"Count with positive zscore_difference_babip:\", count_positive_babip)\n"
   ]
  },
  {
   "cell_type": "code",
   "execution_count": 30,
   "id": "e82ab217",
   "metadata": {},
   "outputs": [
    {
     "name": "stdout",
     "output_type": "stream",
     "text": [
      "Count with positive zscore_difference_babip: 53\n"
     ]
    }
   ],
   "source": [
    "L_filtered_results_positive_babip = filtered_results_L[filtered_results_L['zscore_difference_babip'] > 0]\n",
    "L_count_positive_babip = L_filtered_results_positive_babip.shape[0]\n",
    "print(\"Count with positive zscore_difference_babip:\", L_count_positive_babip)"
   ]
  },
  {
   "cell_type": "code",
   "execution_count": 31,
   "id": "fecafebb",
   "metadata": {},
   "outputs": [
    {
     "name": "stdout",
     "output_type": "stream",
     "text": [
      "Count R with positive zscore_difference_babip: 66\n"
     ]
    }
   ],
   "source": [
    "R_filtered_results_positive_babip = filtered_results_R[filtered_results_R['zscore_difference_babip'] > 0]\n",
    "R_count_positive_babip = filtered_results_positive_babip.shape[0]\n",
    "print(\"Count R with positive zscore_difference_babip:\", count_positive_babip)"
   ]
  },
  {
   "cell_type": "code",
   "execution_count": 32,
   "id": "b938300d",
   "metadata": {},
   "outputs": [
    {
     "name": "stdout",
     "output_type": "stream",
     "text": [
      "Count L with positive zscore_difference_woba: 49\n"
     ]
    }
   ],
   "source": [
    "L_filtered_results_positive_woba = filtered_results_L[filtered_results_L['zscore_difference_woba'] > 0]\n",
    "L_count_positive_woba = L_filtered_results_positive_woba.shape[0]\n",
    "print(\"Count L with positive zscore_difference_woba:\", L_count_positive_woba)"
   ]
  },
  {
   "cell_type": "code",
   "execution_count": 34,
   "id": "1117468a",
   "metadata": {},
   "outputs": [
    {
     "name": "stdout",
     "output_type": "stream",
     "text": [
      "Count R with positive zscore_difference_woba: 57\n"
     ]
    }
   ],
   "source": [
    "R_filtered_results_positive_woba = filtered_results_R[filtered_results_R['zscore_difference_woba'] > 0]\n",
    "R_count_positive_woba = R_filtered_results_positive_woba.shape[0]\n",
    "print(\"Count R with positive zscore_difference_woba:\", R_count_positive_woba)"
   ]
  },
  {
   "cell_type": "code",
   "execution_count": 37,
   "id": "d94cc663",
   "metadata": {},
   "outputs": [
    {
     "name": "stdout",
     "output_type": "stream",
     "text": [
      "Count L with positive zscore_difference_slg: 46\n"
     ]
    }
   ],
   "source": [
    "L_filtered_results_positive_slg = filtered_results_L[filtered_results_L['zscore_difference_slg'] > 0]\n",
    "L_count_positive_slg = L_filtered_results_positive_slg.shape[0]\n",
    "print(\"Count L with positive zscore_difference_slg:\", L_count_positive_slg)"
   ]
  },
  {
   "cell_type": "code",
   "execution_count": 38,
   "id": "77502a6d",
   "metadata": {},
   "outputs": [
    {
     "name": "stdout",
     "output_type": "stream",
     "text": [
      "Count R with positive zscore_difference_woba: 61\n"
     ]
    }
   ],
   "source": [
    "R_filtered_results_positive_slg = filtered_results_R[filtered_results_R['zscore_difference_slg'] > 0]\n",
    "R_count_positive_slg = R_filtered_results_positive_slg.shape[0]\n",
    "print(\"Count R with positive zscore_difference_slg:\", R_count_positive_slg)"
   ]
  },
  {
   "cell_type": "code",
   "execution_count": 39,
   "id": "1cf87b83",
   "metadata": {},
   "outputs": [
    {
     "name": "stdout",
     "output_type": "stream",
     "text": [
      "Count L with positive zscore_difference_wrc: 48\n"
     ]
    }
   ],
   "source": [
    "L_filtered_results_positive_wrc = filtered_results_L[filtered_results_L['zscore_difference_wrc+'] > 0]\n",
    "L_count_positive_wrc = L_filtered_results_positive_wrc.shape[0]\n",
    "print(\"Count L with positive zscore_difference_wrc:\", L_count_positive_wrc)"
   ]
  },
  {
   "cell_type": "code",
   "execution_count": 40,
   "id": "a95d6779",
   "metadata": {},
   "outputs": [
    {
     "name": "stdout",
     "output_type": "stream",
     "text": [
      "Count R with positive zscore_difference_wrc: 59\n"
     ]
    }
   ],
   "source": [
    "R_filtered_results_positive_wrc = filtered_results_R[filtered_results_R['zscore_difference_wrc+'] > 0]\n",
    "R_count_positive_wrc = R_filtered_results_positive_wrc.shape[0]\n",
    "print(\"Count R with positive zscore_difference_wrc:\", R_count_positive_wrc)"
   ]
  }
 ],
 "metadata": {
  "kernelspec": {
   "display_name": "Python 3 (ipykernel)",
   "language": "python",
   "name": "python3"
  },
  "language_info": {
   "codemirror_mode": {
    "name": "ipython",
    "version": 3
   },
   "file_extension": ".py",
   "mimetype": "text/x-python",
   "name": "python",
   "nbconvert_exporter": "python",
   "pygments_lexer": "ipython3",
   "version": "3.9.16"
  }
 },
 "nbformat": 4,
 "nbformat_minor": 5
}
