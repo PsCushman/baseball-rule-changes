{
 "cells": [
  {
   "cell_type": "code",
   "execution_count": 20,
   "id": "b339029a",
   "metadata": {},
   "outputs": [],
   "source": [
    "import pandas as pd\n",
    "import numpy as np\n",
    "import joblib\n",
    "from sklearn.ensemble import RandomForestRegressor\n",
    "from sklearn.metrics import mean_squared_error, mean_absolute_error, r2_score\n",
    "from sklearn.impute import SimpleImputer\n",
    "\n",
    "# Load data\n",
    "data_1990_2023 = pd.read_csv('1990_2023.csv')"
   ]
  },
  {
   "cell_type": "code",
   "execution_count": 21,
   "id": "2dfef160",
   "metadata": {},
   "outputs": [],
   "source": [
    "# Data preprocessing\n",
    "data_1990_2023 = data_1990_2023.dropna()"
   ]
  },
  {
   "cell_type": "code",
   "execution_count": 22,
   "id": "ada99719",
   "metadata": {},
   "outputs": [],
   "source": [
    "#Model Selection and Implementation\n",
    "# Data preprocessing\n",
    "data_1990_2023 = data_1990_2023.dropna(subset=['WAR'])  # Remove rows with missing WAR values"
   ]
  },
  {
   "cell_type": "code",
   "execution_count": 23,
   "id": "ca73be2b",
   "metadata": {},
   "outputs": [],
   "source": [
    "# Feature selection\n",
    "selected_features = ['Batting', 'Base Running', 'Fielding', 'Positional', 'Offense', 'Defense']\n",
    "X_train = data_1990_2023[selected_features]\n",
    "y_train = data_1990_2023['WAR']\n",
    "\n",
    "X_test = data_1990_2023[selected_features]\n",
    "y_test = data_1990_2023['WAR']"
   ]
  },
  {
   "cell_type": "code",
   "execution_count": 24,
   "id": "4cb86832",
   "metadata": {},
   "outputs": [
    {
     "data": {
      "text/html": [
       "<style>#sk-container-id-2 {color: black;background-color: white;}#sk-container-id-2 pre{padding: 0;}#sk-container-id-2 div.sk-toggleable {background-color: white;}#sk-container-id-2 label.sk-toggleable__label {cursor: pointer;display: block;width: 100%;margin-bottom: 0;padding: 0.3em;box-sizing: border-box;text-align: center;}#sk-container-id-2 label.sk-toggleable__label-arrow:before {content: \"▸\";float: left;margin-right: 0.25em;color: #696969;}#sk-container-id-2 label.sk-toggleable__label-arrow:hover:before {color: black;}#sk-container-id-2 div.sk-estimator:hover label.sk-toggleable__label-arrow:before {color: black;}#sk-container-id-2 div.sk-toggleable__content {max-height: 0;max-width: 0;overflow: hidden;text-align: left;background-color: #f0f8ff;}#sk-container-id-2 div.sk-toggleable__content pre {margin: 0.2em;color: black;border-radius: 0.25em;background-color: #f0f8ff;}#sk-container-id-2 input.sk-toggleable__control:checked~div.sk-toggleable__content {max-height: 200px;max-width: 100%;overflow: auto;}#sk-container-id-2 input.sk-toggleable__control:checked~label.sk-toggleable__label-arrow:before {content: \"▾\";}#sk-container-id-2 div.sk-estimator input.sk-toggleable__control:checked~label.sk-toggleable__label {background-color: #d4ebff;}#sk-container-id-2 div.sk-label input.sk-toggleable__control:checked~label.sk-toggleable__label {background-color: #d4ebff;}#sk-container-id-2 input.sk-hidden--visually {border: 0;clip: rect(1px 1px 1px 1px);clip: rect(1px, 1px, 1px, 1px);height: 1px;margin: -1px;overflow: hidden;padding: 0;position: absolute;width: 1px;}#sk-container-id-2 div.sk-estimator {font-family: monospace;background-color: #f0f8ff;border: 1px dotted black;border-radius: 0.25em;box-sizing: border-box;margin-bottom: 0.5em;}#sk-container-id-2 div.sk-estimator:hover {background-color: #d4ebff;}#sk-container-id-2 div.sk-parallel-item::after {content: \"\";width: 100%;border-bottom: 1px solid gray;flex-grow: 1;}#sk-container-id-2 div.sk-label:hover label.sk-toggleable__label {background-color: #d4ebff;}#sk-container-id-2 div.sk-serial::before {content: \"\";position: absolute;border-left: 1px solid gray;box-sizing: border-box;top: 0;bottom: 0;left: 50%;z-index: 0;}#sk-container-id-2 div.sk-serial {display: flex;flex-direction: column;align-items: center;background-color: white;padding-right: 0.2em;padding-left: 0.2em;position: relative;}#sk-container-id-2 div.sk-item {position: relative;z-index: 1;}#sk-container-id-2 div.sk-parallel {display: flex;align-items: stretch;justify-content: center;background-color: white;position: relative;}#sk-container-id-2 div.sk-item::before, #sk-container-id-2 div.sk-parallel-item::before {content: \"\";position: absolute;border-left: 1px solid gray;box-sizing: border-box;top: 0;bottom: 0;left: 50%;z-index: -1;}#sk-container-id-2 div.sk-parallel-item {display: flex;flex-direction: column;z-index: 1;position: relative;background-color: white;}#sk-container-id-2 div.sk-parallel-item:first-child::after {align-self: flex-end;width: 50%;}#sk-container-id-2 div.sk-parallel-item:last-child::after {align-self: flex-start;width: 50%;}#sk-container-id-2 div.sk-parallel-item:only-child::after {width: 0;}#sk-container-id-2 div.sk-dashed-wrapped {border: 1px dashed gray;margin: 0 0.4em 0.5em 0.4em;box-sizing: border-box;padding-bottom: 0.4em;background-color: white;}#sk-container-id-2 div.sk-label label {font-family: monospace;font-weight: bold;display: inline-block;line-height: 1.2em;}#sk-container-id-2 div.sk-label-container {text-align: center;}#sk-container-id-2 div.sk-container {/* jupyter's `normalize.less` sets `[hidden] { display: none; }` but bootstrap.min.css set `[hidden] { display: none !important; }` so we also need the `!important` here to be able to override the default hidden behavior on the sphinx rendered scikit-learn.org. See: https://github.com/scikit-learn/scikit-learn/issues/21755 */display: inline-block !important;position: relative;}#sk-container-id-2 div.sk-text-repr-fallback {display: none;}</style><div id=\"sk-container-id-2\" class=\"sk-top-container\"><div class=\"sk-text-repr-fallback\"><pre>RandomForestRegressor(max_depth=10, random_state=42)</pre><b>In a Jupyter environment, please rerun this cell to show the HTML representation or trust the notebook. <br />On GitHub, the HTML representation is unable to render, please try loading this page with nbviewer.org.</b></div><div class=\"sk-container\" hidden><div class=\"sk-item\"><div class=\"sk-estimator sk-toggleable\"><input class=\"sk-toggleable__control sk-hidden--visually\" id=\"sk-estimator-id-2\" type=\"checkbox\" checked><label for=\"sk-estimator-id-2\" class=\"sk-toggleable__label sk-toggleable__label-arrow\">RandomForestRegressor</label><div class=\"sk-toggleable__content\"><pre>RandomForestRegressor(max_depth=10, random_state=42)</pre></div></div></div></div></div>"
      ],
      "text/plain": [
       "RandomForestRegressor(max_depth=10, random_state=42)"
      ]
     },
     "execution_count": 24,
     "metadata": {},
     "output_type": "execute_result"
    }
   ],
   "source": [
    "# Model training\n",
    "model = RandomForestRegressor(n_estimators=100, max_depth=10, random_state=42)\n",
    "model.fit(X_train, y_train)"
   ]
  },
  {
   "cell_type": "code",
   "execution_count": 25,
   "id": "205604ed",
   "metadata": {},
   "outputs": [
    {
     "data": {
      "text/plain": [
       "['trained_model.pkl']"
      ]
     },
     "execution_count": 25,
     "metadata": {},
     "output_type": "execute_result"
    }
   ],
   "source": [
    "# Save the trained model using joblib\n",
    "model_path = 'trained_model.pkl'\n",
    "joblib.dump(model, model_path)"
   ]
  },
  {
   "cell_type": "code",
   "execution_count": 26,
   "id": "86ffea4a",
   "metadata": {},
   "outputs": [
    {
     "name": "stdout",
     "output_type": "stream",
     "text": [
      "Mean Squared Error: 6.291499136898979\n",
      "Root Mean Squared Error: 2.5082860955040553\n",
      "Mean Absolute Error: 1.9114096816854051\n",
      "R-squared: 0.9758698894431309\n"
     ]
    }
   ],
   "source": [
    "# Model Evaluation\n",
    "predictions = model.predict(X_test)\n",
    "mse = mean_squared_error(y_test, predictions)\n",
    "rmse = mean_squared_error(y_test, predictions, squared=False)\n",
    "mae = mean_absolute_error(y_test, predictions)\n",
    "r2 = r2_score(y_test, predictions)\n",
    "\n",
    "print(f\"Mean Squared Error: {mse}\")\n",
    "print(\"Root Mean Squared Error:\", rmse)\n",
    "print(\"Mean Absolute Error:\", mae)\n",
    "print(\"R-squared:\", r2)"
   ]
  },
  {
   "cell_type": "markdown",
   "id": "d5be122b",
   "metadata": {},
   "source": [
    "# Model prediction for Top 10 Career WAR since 1990"
   ]
  },
  {
   "cell_type": "code",
   "execution_count": 51,
   "id": "6b80ccab",
   "metadata": {},
   "outputs": [],
   "source": [
    "# Model prediction for 2013-2022\n",
    "predicted_wars = model.predict(data_1990_2023[selected_features])"
   ]
  },
  {
   "cell_type": "code",
   "execution_count": 52,
   "id": "3b1aeae0",
   "metadata": {},
   "outputs": [],
   "source": [
    "# Save predictions for comparison\n",
    "data_1990_2023['Predicted_WAR'] = predicted_wars\n",
    "data_1990_2023.to_csv('predicted_wars_1990_2023.csv', index=False)\n",
    "# Load the original data with predicted WAR values\n",
    "data_1990_2023_with_predictions = pd.read_csv('predicted_wars_1990_2023.csv')"
   ]
  },
  {
   "cell_type": "code",
   "execution_count": 53,
   "id": "8408d365",
   "metadata": {},
   "outputs": [],
   "source": [
    "# Analyzing Predictions\n",
    "def analyze_predictions(data_with_predictions):\n",
    "    sorted_data = data_with_predictions.sort_values(by='Predicted_WAR', ascending=False)\n",
    "    top_10_original = sorted_data.head(10)\n",
    "    return top_10_original\n",
    "\n",
    "data_1990_2023_with_predictions = pd.read_csv('predicted_wars_1990_2023.csv')\n",
    "top_10_original = analyze_predictions(data_1990_2023_with_predictions)"
   ]
  },
  {
   "cell_type": "code",
   "execution_count": 54,
   "id": "d4c6ab16",
   "metadata": {},
   "outputs": [],
   "source": [
    "# Calculate metrics\n",
    "y_true = data_2013_2022_with_predictions['WAR']\n",
    "y_pred = data_2013_2022_with_predictions['Predicted_WAR']\n",
    "\n",
    "mse = mean_squared_error(y_true, y_pred)\n",
    "rmse = mean_squared_error(y_true, y_pred, squared=False)\n",
    "mae = mean_absolute_error(y_true, y_pred)\n",
    "r2 = r2_score(y_true, y_pred)"
   ]
  },
  {
   "cell_type": "code",
   "execution_count": 55,
   "id": "80fd62f4",
   "metadata": {},
   "outputs": [],
   "source": [
    "# Sort the data by original WAR values in descending order\n",
    "sorted_data = data_1990_2023_with_predictions.sort_values(by='WAR', ascending=False)"
   ]
  },
  {
   "cell_type": "code",
   "execution_count": 56,
   "id": "01adf832",
   "metadata": {},
   "outputs": [],
   "source": [
    "# Select the top 10 players by WAR\n",
    "top_10_original = sorted_data.head(10)"
   ]
  },
  {
   "cell_type": "code",
   "execution_count": 57,
   "id": "f860e3b9",
   "metadata": {},
   "outputs": [
    {
     "name": "stdout",
     "output_type": "stream",
     "text": [
      "Player: Barry Bonds          | Original WAR: 143.27493504734136\n",
      "Player: Alex Rodriguez       | Original WAR: 113.71163202697753\n",
      "Player: Albert Pujols        | Original WAR: 88.77482972441709\n",
      "Player: Mike Trout           | Original WAR: 85.20292465065245\n",
      "Player: Chipper Jones        | Original WAR: 84.583813454414\n",
      "Player: Adrián Beltré        | Original WAR: 83.79983541376689\n",
      "Player: Jeff Bagwell         | Original WAR: 80.20785192601608\n",
      "Player: Ken Griffey Jr.      | Original WAR: 75.2547769600008\n",
      "Player: Derek Jeter          | Original WAR: 73.07613040995574\n",
      "Player: Frank Thomas         | Original WAR: 72.05993742316457\n"
     ]
    }
   ],
   "source": [
    "# Print the top 10 players along with original\n",
    "for index, row in top_10_original.iterrows():\n",
    "    print(\"Player: {:<20} | Original WAR: {:<10}\".format(row['Name'], row['WAR']))"
   ]
  },
  {
   "cell_type": "code",
   "execution_count": 35,
   "id": "fcfd5d57",
   "metadata": {
    "scrolled": true
   },
   "outputs": [
    {
     "name": "stdout",
     "output_type": "stream",
     "text": [
      "Top 10 Players by Original WAR:\n",
      "Player: Barry Bonds          | Original WAR: 143.27493504734136\n",
      "Player: Alex Rodriguez       | Original WAR: 113.71163202697753\n",
      "Player: Albert Pujols        | Original WAR: 88.77482972441709\n",
      "Player: Mike Trout           | Original WAR: 85.20292465065245\n",
      "Player: Chipper Jones        | Original WAR: 84.583813454414\n",
      "Player: Adrián Beltré        | Original WAR: 83.79983541376689\n",
      "Player: Jeff Bagwell         | Original WAR: 80.20785192601608\n",
      "Player: Ken Griffey Jr.      | Original WAR: 75.2547769600008\n",
      "Player: Derek Jeter          | Original WAR: 73.07613040995574\n",
      "Player: Frank Thomas         | Original WAR: 72.05993742316457\n",
      "\n",
      "Top 10 Players by Predicted WAR:\n",
      "Player: Barry Bonds          | Predicted WAR: 125.5350340692872\n",
      "Player: Alex Rodriguez       | Predicted WAR: 103.2112828109956\n",
      "Player: Mike Trout           | Predicted WAR: 83.58772515967836\n",
      "Player: Albert Pujols        | Predicted WAR: 81.62154485263059\n",
      "Player: Frank Thomas         | Predicted WAR: 81.55375075453635\n",
      "Player: Chipper Jones        | Predicted WAR: 80.87038074618334\n",
      "Player: Jeff Bagwell         | Predicted WAR: 78.92646178622677\n",
      "Player: Adrián Beltré        | Predicted WAR: 76.03185182271385\n",
      "Player: Ken Griffey Jr.      | Predicted WAR: 72.7176077514554\n",
      "Player: Manny Ramirez        | Predicted WAR: 70.05431782162037\n"
     ]
    }
   ],
   "source": [
    "# Load the data with predicted WAR values\n",
    "data_1990_2023_with_predictions = pd.read_csv('predicted_wars_1990_2023.csv')\n",
    "\n",
    "# Sort the data by original WAR values and select the top 10 players\n",
    "top_10_original = data_1990_2023_with_predictions.sort_values(by='WAR', ascending=False).head(10)\n",
    "\n",
    "# Sort the data by predicted WAR values and select the top 10 players\n",
    "top_10_predicted = data_1990_2023_with_predictions.sort_values(by='Predicted_WAR', ascending=False).head(10)\n",
    "\n",
    "# Display the top 10 players by original WAR\n",
    "print(\"Top 10 Players by Original WAR:\")\n",
    "for index, row in top_10_original.iterrows():\n",
    "    print(\"Player: {:<20} | Original WAR: {:<10}\".format(row['Name'], row['WAR']))\n",
    "\n",
    "# Display the top 10 players by predicted WAR\n",
    "print(\"\\nTop 10 Players by Predicted WAR:\")\n",
    "for index, row in top_10_predicted.iterrows():\n",
    "    print(\"Player: {:<20} | Predicted WAR: {:<10}\".format(row['Name'], row['Predicted_WAR']))"
   ]
  },
  {
   "cell_type": "code",
   "execution_count": 36,
   "id": "a42d05f7",
   "metadata": {},
   "outputs": [
    {
     "name": "stdout",
     "output_type": "stream",
     "text": [
      "Common Player Names in Top 10:\n",
      "Alex Rodriguez\n",
      "Frank Thomas\n",
      "Adrián Beltré\n",
      "Albert Pujols\n",
      "Mike Trout\n",
      "Chipper Jones\n",
      "Jeff Bagwell\n",
      "Ken Griffey Jr.\n",
      "Barry Bonds\n",
      "\n",
      "Number of common players: 9\n"
     ]
    }
   ],
   "source": [
    "# Load the data with predicted WAR values\n",
    "data_2013_2022_with_predictions = pd.read_csv('predicted_wars_1990_2023.csv')\n",
    "\n",
    "# Sort the data by original WAR values and select the top 10 players\n",
    "top_10_original = data_2013_2022_with_predictions.sort_values(by='WAR', ascending=False).head(10)\n",
    "\n",
    "# Sort the data by predicted WAR values and select the top 10 players\n",
    "top_10_predicted = data_2013_2022_with_predictions.sort_values(by='Predicted_WAR', ascending=False).head(10)\n",
    "\n",
    "# Find common player names\n",
    "common_player_names = set(top_10_original['Name']).intersection(top_10_predicted['Name'])\n",
    "\n",
    "# Display the common player names and the count\n",
    "print(\"Common Player Names in Top 10:\")\n",
    "for name in common_player_names:\n",
    "    print(name)\n",
    "\n",
    "print(\"\\nNumber of common players:\", len(common_player_names))\n"
   ]
  },
  {
   "cell_type": "code",
   "execution_count": 50,
   "id": "33686c10",
   "metadata": {},
   "outputs": [
    {
     "name": "stdout",
     "output_type": "stream",
     "text": [
      "Top 10 Players by Adjusted Predicted WAR for Age 25 in 2024:\n",
      "1. Ronald Acuña Jr.     | Team: ATL                  | Adjusted Predicted WAR: 8.00\n",
      "2. Luis Robert Jr.      | Team: CHW                  | Adjusted Predicted WAR: 6.51\n",
      "3. Bo Bichette          | Team: TOR                  | Adjusted Predicted WAR: 4.29\n",
      "4. Lars Nootbaar        | Team: STL                  | Adjusted Predicted WAR: 3.95\n",
      "5. Josh Lowe            | Team: TBR                  | Adjusted Predicted WAR: 3.87\n",
      "6. William Contreras    | Team: MIL                  | Adjusted Predicted WAR: 3.86\n",
      "7. Bryson Stott         | Team: PHI                  | Adjusted Predicted WAR: 3.49\n",
      "8. Kerry Carpenter      | Team: DET                  | Adjusted Predicted WAR: 3.33\n",
      "9. Grae Kessinger       | Team: HOU                  | Adjusted Predicted WAR: 3.33\n",
      "10. Dominic Fletcher     | Team: ARI                  | Adjusted Predicted WAR: 3.32\n",
      "\n",
      "\n",
      "Top 10 Players by Adjusted Predicted WAR for Age 26 in 2024:\n",
      "1. Kyle Tucker          | Team: HOU                  | Adjusted Predicted WAR: 8.00\n",
      "2. Luis Arraez          | Team: MIA                  | Adjusted Predicted WAR: 7.63\n",
      "3. Yordan Alvarez       | Team: HOU                  | Adjusted Predicted WAR: 7.30\n",
      "4. James Outman         | Team: LAD                  | Adjusted Predicted WAR: 6.06\n",
      "5. Ozzie Albies         | Team: ATL                  | Adjusted Predicted WAR: 5.98\n",
      "6. Jarren Duran         | Team: BOS                  | Adjusted Predicted WAR: 5.94\n",
      "7. Nico Hoerner         | Team: CHC                  | Adjusted Predicted WAR: 5.88\n",
      "8. Austin Riley         | Team: ATL                  | Adjusted Predicted WAR: 5.83\n",
      "9. Cal Raleigh          | Team: SEA                  | Adjusted Predicted WAR: 5.76\n",
      "10. Rafael Devers        | Team: BOS                  | Adjusted Predicted WAR: 5.65\n",
      "\n",
      "\n",
      "Top 10 Players by Adjusted Predicted WAR for Age 27 in 2024:\n",
      "1. Ha-Seong Kim         | Team: SDP                  | Adjusted Predicted WAR: 8.00\n",
      "2. Cody Bellinger       | Team: CHC                  | Adjusted Predicted WAR: 7.27\n",
      "3. Thairo Estrada       | Team: SFG                  | Adjusted Predicted WAR: 4.25\n",
      "4. Jake Burger          | Team: - - -                | Adjusted Predicted WAR: 4.04\n",
      "5. Lane Thomas          | Team: WSN                  | Adjusted Predicted WAR: 3.97\n",
      "6. Alex Verdugo         | Team: BOS                  | Adjusted Predicted WAR: 3.94\n",
      "7. Willy Adames         | Team: MIL                  | Adjusted Predicted WAR: 3.86\n",
      "8. Nathaniel Lowe       | Team: TEX                  | Adjusted Predicted WAR: 3.84\n",
      "9. Jake Meyers          | Team: HOU                  | Adjusted Predicted WAR: 3.78\n",
      "10. Jose Siri            | Team: TBR                  | Adjusted Predicted WAR: 3.77\n",
      "\n",
      "\n",
      "Top 10 Players by Adjusted Predicted WAR for Age 28 in 2024:\n",
      "1. Shohei Ohtani        | Team: LAA                  | Adjusted Predicted WAR: 8.00\n",
      "2. Chas McCormick       | Team: HOU                  | Adjusted Predicted WAR: 6.51\n",
      "3. Sean Murphy          | Team: ATL                  | Adjusted Predicted WAR: 5.04\n",
      "4. Pete Alonso          | Team: NYM                  | Adjusted Predicted WAR: 4.48\n",
      "5. Luke Raley           | Team: TBR                  | Adjusted Predicted WAR: 3.95\n",
      "6. Jonah Heim           | Team: TEX                  | Adjusted Predicted WAR: 3.82\n",
      "7. J.P. Crawford        | Team: SEA                  | Adjusted Predicted WAR: 3.77\n",
      "8. Will Smith           | Team: LAD                  | Adjusted Predicted WAR: 3.76\n",
      "9. Jake Rogers          | Team: DET                  | Adjusted Predicted WAR: 3.71\n",
      "10. Orlando Arcia        | Team: ATL                  | Adjusted Predicted WAR: 3.55\n",
      "\n",
      "\n",
      "Top 10 Players by Adjusted Predicted WAR for Age 29 in 2024:\n",
      "1. Corey Seager         | Team: TEX                  | Adjusted Predicted WAR: 8.00\n",
      "2. Francisco Lindor     | Team: NYM                  | Adjusted Predicted WAR: 7.01\n",
      "3. Matt Olson           | Team: ATL                  | Adjusted Predicted WAR: 6.41\n",
      "4. Jeimer Candelario    | Team: - - -                | Adjusted Predicted WAR: 4.50\n",
      "5. Dansby Swanson       | Team: CHC                  | Adjusted Predicted WAR: 4.35\n",
      "6. Alex Bregman         | Team: HOU                  | Adjusted Predicted WAR: 3.92\n",
      "7. Harrison Bader       | Team: NYY                  | Adjusted Predicted WAR: 3.86\n",
      "8. Ketel Marte          | Team: ARI                  | Adjusted Predicted WAR: 3.63\n",
      "9. Tyrone Taylor        | Team: MIL                  | Adjusted Predicted WAR: 3.54\n",
      "10. Victor Caratini      | Team: MIL                  | Adjusted Predicted WAR: 3.49\n",
      "\n",
      "\n",
      "Top 10 Players by Adjusted Predicted WAR for Age 30 in 2024:\n",
      "1. Mookie Betts         | Team: LAD                  | Adjusted Predicted WAR: 8.00\n",
      "2. Adolis García        | Team: TEX                  | Adjusted Predicted WAR: 6.03\n",
      "3. José Ramírez         | Team: CLE                  | Adjusted Predicted WAR: 5.23\n",
      "4. Brandon Nimmo        | Team: NYM                  | Adjusted Predicted WAR: 4.08\n",
      "5. Manny Machado        | Team: SDP                  | Adjusted Predicted WAR: 3.44\n",
      "6. Jose Trevino         | Team: NYY                  | Adjusted Predicted WAR: 3.37\n",
      "7. Matt Chapman         | Team: TOR                  | Adjusted Predicted WAR: 3.22\n",
      "8. Xander Bogaerts      | Team: SDP                  | Adjusted Predicted WAR: 3.21\n",
      "9. J.D. Davis           | Team: SFG                  | Adjusted Predicted WAR: 3.14\n",
      "10. Dairon Blanco        | Team: KCR                  | Adjusted Predicted WAR: 3.13\n",
      "\n",
      "\n"
     ]
    },
    {
     "name": "stderr",
     "output_type": "stream",
     "text": [
      "C:\\Users\\l1_2p\\anaconda3\\envs\\dev\\lib\\site-packages\\sklearn\\base.py:439: UserWarning: X does not have valid feature names, but RandomForestRegressor was fitted with feature names\n",
      "  warnings.warn(\n",
      "C:\\Users\\l1_2p\\anaconda3\\envs\\dev\\lib\\site-packages\\sklearn\\base.py:439: UserWarning: X does not have valid feature names, but RandomForestRegressor was fitted with feature names\n",
      "  warnings.warn(\n",
      "C:\\Users\\l1_2p\\anaconda3\\envs\\dev\\lib\\site-packages\\sklearn\\base.py:439: UserWarning: X does not have valid feature names, but RandomForestRegressor was fitted with feature names\n",
      "  warnings.warn(\n",
      "C:\\Users\\l1_2p\\anaconda3\\envs\\dev\\lib\\site-packages\\sklearn\\base.py:439: UserWarning: X does not have valid feature names, but RandomForestRegressor was fitted with feature names\n",
      "  warnings.warn(\n",
      "C:\\Users\\l1_2p\\anaconda3\\envs\\dev\\lib\\site-packages\\sklearn\\base.py:439: UserWarning: X does not have valid feature names, but RandomForestRegressor was fitted with feature names\n",
      "  warnings.warn(\n",
      "C:\\Users\\l1_2p\\anaconda3\\envs\\dev\\lib\\site-packages\\sklearn\\base.py:439: UserWarning: X does not have valid feature names, but RandomForestRegressor was fitted with feature names\n",
      "  warnings.warn(\n"
     ]
    }
   ],
   "source": [
    "import pandas as pd\n",
    "from sklearn.impute import SimpleImputer\n",
    "import joblib\n",
    "\n",
    "# Load the trained model\n",
    "model_path = 'trained_model.pkl'  # Update with the correct path to your trained model\n",
    "model = joblib.load(model_path)\n",
    "\n",
    "# Define the years for prediction\n",
    "years_to_predict = [2024]\n",
    "\n",
    "# Loop through the age groups\n",
    "for age in range(25, 31):\n",
    "    # Load the dataset for the specific age group\n",
    "    data_age = pd.read_csv(f'Age_{age}.csv')\n",
    "    \n",
    "    # Preprocess the data\n",
    "    data_age = data_age.dropna(subset=['WAR'])\n",
    "    X_age = data_age[selected_features]\n",
    "    \n",
    "    # Handle missing values using an imputer\n",
    "    imputer = SimpleImputer()\n",
    "    X_age_imputed = imputer.fit_transform(X_age)\n",
    "    \n",
    "    # Use the trained model to predict WAR values for the age group\n",
    "    predicted_wars_age = model.predict(X_age_imputed)\n",
    "    \n",
    "    # Calculate the adjustment factor based on the highest predicted WAR value\n",
    "    highest_predicted_war = max(predicted_wars_age)\n",
    "    adjustment_factor = 8.0 / highest_predicted_war\n",
    "    \n",
    "    # Adjust the predicted WAR values proportionally\n",
    "    predicted_wars_age_adjusted = [war * adjustment_factor for war in predicted_wars_age]\n",
    "    \n",
    "    # Add adjusted predicted WAR values to the dataset\n",
    "    data_age['Predicted_WAR_Adjusted'] = predicted_wars_age_adjusted\n",
    "    \n",
    "    # Sort the data by adjusted predicted WAR values and select the top 10 players\n",
    "    top_10_predicted_age_adjusted = data_age.sort_values(by='Predicted_WAR_Adjusted', ascending=False).head(10)\n",
    "    \n",
    "    # Print the top 10 players for the age group with adjusted predicted WAR values\n",
    "    print(f\"Top 10 Players by Adjusted Predicted WAR for Age {age} in 2024:\")\n",
    "    for rank, (_, row) in enumerate(top_10_predicted_age_adjusted.iterrows(), start=1):\n",
    "        print(f\"{rank}. {row['Name']: <20} | Team: {row['Team']: <20} | Adjusted Predicted WAR: {row['Predicted_WAR_Adjusted']:.2f}\")\n",
    "    \n",
    "    # Export the modified dataset for the current age group to a new CSV file\n",
    "    data_age.to_csv(f'Predicted_Age_{age}_Adjusted.csv', index=False)\n",
    "    \n",
    "    print(\"\\n\")\n"
   ]
  },
  {
   "cell_type": "markdown",
   "id": "08c73ea5",
   "metadata": {},
   "source": [
    "# Visualizations"
   ]
  },
  {
   "cell_type": "code",
   "execution_count": 42,
   "id": "62f45d5d",
   "metadata": {},
   "outputs": [
    {
     "name": "stdout",
     "output_type": "stream",
     "text": [
      "Top 10 Players by Adjusted Predicted WAR for 2023:\n",
      "1. Player: Aaron Judge          | Adjusted Predicted WAR 2023: 7.30\n",
      "2. Player: Paul Goldschmidt     | Adjusted Predicted WAR 2023: 5.88\n",
      "3. Player: Nolan Arenado        | Adjusted Predicted WAR 2023: 5.86\n",
      "4. Player: Manny Machado        | Adjusted Predicted WAR 2023: 5.85\n",
      "5. Player: Jose Altuve          | Adjusted Predicted WAR 2023: 5.55\n",
      "6. Player: Yordan Alvarez       | Adjusted Predicted WAR 2023: 5.52\n",
      "7. Player: Freddie Freeman      | Adjusted Predicted WAR 2023: 5.39\n",
      "8. Player: Austin Riley         | Adjusted Predicted WAR 2023: 4.83\n",
      "9. Player: José Ramírez         | Adjusted Predicted WAR 2023: 4.81\n",
      "10. Player: J.T. Realmuto        | Adjusted Predicted WAR 2023: 4.76\n"
     ]
    },
    {
     "name": "stderr",
     "output_type": "stream",
     "text": [
      "C:\\Users\\l1_2p\\anaconda3\\envs\\dev\\lib\\site-packages\\sklearn\\base.py:439: UserWarning: X does not have valid feature names, but RandomForestRegressor was fitted with feature names\n",
      "  warnings.warn(\n"
     ]
    }
   ],
   "source": [
    "import pandas as pd\n",
    "from sklearn.impute import SimpleImputer\n",
    "import joblib\n",
    "\n",
    "# Load the trained model\n",
    "model_path = 'trained_model.pkl'  # Update with the correct path to your trained model\n",
    "model = joblib.load(model_path)\n",
    "\n",
    "# Load the data for the year 2022\n",
    "data_2022 = pd.read_csv('2022.csv')\n",
    "\n",
    "# Preprocess the data (if needed)\n",
    "# For example, drop any rows with missing values\n",
    "data_2022 = data_2022.dropna()\n",
    "\n",
    "# Feature selection\n",
    "selected_features = ['Batting', 'Base Running', 'Fielding', 'Positional', 'Offense', 'Defense']\n",
    "X_2022 = data_2022[selected_features]\n",
    "\n",
    "# Handle missing values using an imputer\n",
    "imputer = SimpleImputer()\n",
    "X_2022_imputed = imputer.fit_transform(X_2022)\n",
    "\n",
    "# Use the trained model to predict WAR values for 2023\n",
    "predicted_wars_2023 = model.predict(X_2022_imputed)\n",
    "\n",
    "# Calculate the adjustment factor based on the highest predicted WAR value\n",
    "highest_predicted_war = max(predicted_wars_2023)\n",
    "adjustment_factor = 7.3 / highest_predicted_war\n",
    "\n",
    "# Adjust the predicted WAR values proportionally\n",
    "predicted_wars_2023_adjusted = [war * adjustment_factor for war in predicted_wars_2023]\n",
    "\n",
    "# Add adjusted predicted WAR values to the 2022 dataset\n",
    "data_2022['Predicted_WAR_2023_Adjusted'] = predicted_wars_2023_adjusted\n",
    "\n",
    "# Sort the data by adjusted predicted WAR values for 2023 and select the top 10 players\n",
    "top_10_predicted_2023_adjusted = data_2022.sort_values(by='Predicted_WAR_2023_Adjusted', ascending=False).head(10)\n",
    "\n",
    "# Write the top 10 players with adjusted predicted WAR values to a new CSV file\n",
    "top_10_predicted_2023_adjusted.to_csv('top_10_adjusted_war_2023.csv', index=False)\n",
    "\n",
    "print(\"Top 10 Players by Adjusted Predicted WAR for 2023:\")\n",
    "for idx, (index, row) in enumerate(top_10_predicted_2023_adjusted.iterrows(), start=1):\n",
    "    print(f\"{idx}. Player: {row['Name']:<20} | Adjusted Predicted WAR 2023: {row['Predicted_WAR_2023_Adjusted']:.2f}\")\n"
   ]
  },
  {
   "cell_type": "code",
   "execution_count": 43,
   "id": "8e3565e8",
   "metadata": {},
   "outputs": [
    {
     "name": "stdout",
     "output_type": "stream",
     "text": [
      "1. Player: Mookie Betts | WAR: 7.327975986929802\n",
      "2. Player: Freddie Freeman | WAR: 6.638534213255805\n",
      "3. Player: Shohei Ohtani | WAR: 6.471881355205432\n",
      "4. Player: Ronald Acuña Jr. | WAR: 6.209565928163518\n",
      "5. Player: Francisco Lindor | WAR: 5.192459056873583\n",
      "6. Player: Julio Rodríguez | WAR: 5.137760386533369\n",
      "7. Player: Bobby Witt Jr. | WAR: 4.93077953028478\n",
      "8. Player: Luis Robert Jr. | WAR: 4.8928087102231395\n",
      "9. Player: Corbin Carroll | WAR: 4.850268787330351\n",
      "10. Player: Marcus Semien | WAR: 4.783538038609257\n"
     ]
    }
   ],
   "source": [
    "import csv\n",
    "\n",
    "# Read data from the CSV file with the correct encoding and skip initial characters\n",
    "data = []\n",
    "with open('2023.csv', 'r', encoding='utf-8-sig') as csvfile:\n",
    "    csv_reader = csv.DictReader(csvfile)\n",
    "    for row in csv_reader:\n",
    "        data.append(row)\n",
    "\n",
    "# Convert WAR values to float and sort the data by WAR\n",
    "data.sort(key=lambda x: float(x['WAR']), reverse=True)\n",
    "\n",
    "# Extract the top ten players\n",
    "top_ten = data[:10]\n",
    "\n",
    "# Write the top ten players to a new CSV file\n",
    "with open('top_ten_war_2023.csv', 'w', newline='', encoding='utf-8') as csvfile:\n",
    "    fieldnames = [\n",
    "        'Name', 'Team', 'Batting', 'Base Running', 'Fielding',\n",
    "        'Positional', 'Offense', 'Defense', 'League', 'Replacement',\n",
    "        'RAR', 'WAR', 'Dollars', 'NameASCII', 'PlayerId', 'MLBAMID'\n",
    "    ]\n",
    "    csv_writer = csv.DictWriter(csvfile, fieldnames=fieldnames)\n",
    "    csv_writer.writeheader()\n",
    "    csv_writer.writerows(top_ten)\n",
    "\n",
    "# Print the top ten players by WAR\n",
    "for idx, player in enumerate(top_ten, start=1):\n",
    "    print(f\"{idx}. Player: {player['Name']} | WAR: {player['WAR']}\")\n",
    "\n",
    "\n"
   ]
  },
  {
   "cell_type": "code",
   "execution_count": null,
   "id": "644488d1",
   "metadata": {},
   "outputs": [],
   "source": []
  }
 ],
 "metadata": {
  "kernelspec": {
   "display_name": "Python 3 (ipykernel)",
   "language": "python",
   "name": "python3"
  },
  "language_info": {
   "codemirror_mode": {
    "name": "ipython",
    "version": 3
   },
   "file_extension": ".py",
   "mimetype": "text/x-python",
   "name": "python",
   "nbconvert_exporter": "python",
   "pygments_lexer": "ipython3",
   "version": "3.10.10"
  }
 },
 "nbformat": 4,
 "nbformat_minor": 5
}
